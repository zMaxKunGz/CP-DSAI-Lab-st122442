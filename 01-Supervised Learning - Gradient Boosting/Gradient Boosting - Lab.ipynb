{
 "cells": [
  {
   "cell_type": "markdown",
   "source": [
    "Modify the Gradient Boosting scratch code in our lecture such that:\n",
    "- Notice that we are still using max_depth = 1.  Attempt to tweak min_samples_split, max_depth for the regression and see whether we can achieve better mse on our boston data\n",
    "- Notice that we only write scratch code for gradient boosting for regression, add some code so that it also works for binary classification.  Load the breast cancer data from sklearn and see that it works.\n",
    "- Further change the code so that it works for multiclass classification.  Load the digits data from sklearn and see that it works\n",
    "- Put everything into class"
   ],
   "metadata": {}
  },
  {
   "cell_type": "code",
   "execution_count": 1,
   "source": [
    "from sklearn.tree import DecisionTreeRegressor\n",
    "from sklearn.dummy import DummyRegressor\n",
    "from sklearn.datasets import load_boston\n",
    "from sklearn.metrics import mean_squared_error\n",
    "from sklearn.model_selection import train_test_split\n",
    "from sklearn.datasets import load_breast_cancer\n",
    "from sklearn.metrics import classification_report\n",
    "from sklearn.datasets import load_digits\n",
    "import numpy as np"
   ],
   "outputs": [],
   "metadata": {}
  },
  {
   "cell_type": "code",
   "execution_count": 2,
   "source": [
    "X, y = load_boston(return_X_y=True)\n",
    "\n",
    "X_train, X_test, y_train, y_test = train_test_split(X, y, test_size=0.3, random_state=42)\n",
    "\n",
    "print(X_train.shape)\n",
    "print(y_train.shape)\n",
    "print(X_test.shape)\n",
    "print(y_test.shape)"
   ],
   "outputs": [
    {
     "output_type": "stream",
     "name": "stdout",
     "text": [
      "(354, 13)\n",
      "(354,)\n",
      "(152, 13)\n",
      "(152,)\n"
     ]
    }
   ],
   "metadata": {}
  },
  {
   "cell_type": "code",
   "execution_count": 3,
   "source": [
    "class GradientBoosting:\n",
    "    def __init__(self, n_estimators=100, max_depth=2, min_sample_split=5, learning_rate=1, \n",
    "                isClassification=False) -> None:\n",
    "        tree_params = {'max_depth': max_depth, 'min_samples_split': min_sample_split}\n",
    "        self.models = [DecisionTreeRegressor(**tree_params) for _ in range(n_estimators)]\n",
    "        self.learning_rate = learning_rate\n",
    "        self.isClassification = isClassification\n",
    "\n",
    "    def grad(self, y, h):\n",
    "        return y - h\n",
    "\n",
    "    def fit(self, X, y):\n",
    "        \n",
    "        if self.isClassification:\n",
    "            y = self.oneHotEncoding(y)\n",
    "\n",
    "        models_trained = []\n",
    "        #using DummyRegressor is a good technique for starting model\n",
    "        first_model = DummyRegressor(strategy='mean')\n",
    "        first_model.fit(X, y)\n",
    "        models_trained.append(first_model)\n",
    "        \n",
    "        #fit the estimators\n",
    "        for i, model in enumerate(self.models):\n",
    "            #predict using all the weak learners we trained up to\n",
    "            #this point\n",
    "            y_pred = self.predict(X, models_trained)\n",
    "            \n",
    "            #errors will be the total errors maded by models_trained\n",
    "            residual = self.grad(y, y_pred)\n",
    "            \n",
    "            #fit the next model with residual\n",
    "            model.fit(X, residual)\n",
    "\n",
    "            models_trained.append(model)\n",
    "            \n",
    "        self.models = models_trained\n",
    "        return models_trained\n",
    "\n",
    "    def oneHotEncoding(self, y):\n",
    "        num_class = len(np.unique(y))\n",
    "        onehot = np.zeros((len(y), num_class))\n",
    "        for idx, class_idx in enumerate(y):\n",
    "            onehot[idx, class_idx] = 1\n",
    "        return onehot\n",
    "\n",
    "\n",
    "    def softmax(self, X):\n",
    "        soft_values = np.zeros(X.shape)\n",
    "        for idx, row in enumerate(X):\n",
    "            values = np.exp(row)\n",
    "            devider = sum(values)\n",
    "            soft_values[idx, :] = values/devider\n",
    "        return soft_values\n",
    "\n",
    "            \n",
    "    def predict(self, X, models, return_argmax = False):\n",
    "        f0 = models[0].predict(X)  #first use the dummy model\n",
    "        boosting = sum(self.learning_rate * model.predict(X) for model in models[1:])\n",
    "        yhat = f0 + boosting\n",
    "        if self.isClassification:\n",
    "            yhat = self.softmax(yhat)\n",
    "            if return_argmax:\n",
    "                yhat = np.argmax(yhat, axis=1)\n",
    "        return yhat\n",
    "\n",
    "    "
   ],
   "outputs": [],
   "metadata": {}
  },
  {
   "cell_type": "code",
   "execution_count": 4,
   "source": [
    "model = GradientBoosting(n_estimators=200, max_depth=1, min_sample_split=5, learning_rate=0.1)\n",
    "tree = model.fit(X_train, y_train)\n",
    "yhat = model.predict(X_test, tree)\n",
    "print(\"Our MSE: \", mean_squared_error(y_test, yhat))"
   ],
   "outputs": [
    {
     "output_type": "stream",
     "name": "stdout",
     "text": [
      "Our MSE:  12.945557601580584\n"
     ]
    }
   ],
   "metadata": {}
  },
  {
   "cell_type": "markdown",
   "source": [
    "Try to adjust some hyper parameter"
   ],
   "metadata": {}
  },
  {
   "cell_type": "code",
   "execution_count": 5,
   "source": [
    "model2 = GradientBoosting(n_estimators=200, max_depth=3, min_sample_split=10, learning_rate=0.1)\n",
    "tree = model2.fit(X_train, y_train)\n",
    "yhat = model2.predict(X_test, tree)\n",
    "print(\"Our MSE: \", mean_squared_error(y_test, yhat))"
   ],
   "outputs": [
    {
     "output_type": "stream",
     "name": "stdout",
     "text": [
      "Our MSE:  7.841209570276317\n"
     ]
    }
   ],
   "metadata": {}
  },
  {
   "cell_type": "markdown",
   "source": [
    "Test model with classification breast cancer."
   ],
   "metadata": {}
  },
  {
   "cell_type": "code",
   "execution_count": 6,
   "source": [
    "X, y = load_breast_cancer(return_X_y=True)\n",
    "\n",
    "X_train, X_test, y_train, y_test = train_test_split(X, y, test_size=0.3, random_state=42)\n",
    "\n",
    "print(X_train.shape)\n",
    "print(y_train.shape)\n",
    "print(X_test.shape)\n",
    "print(y_test.shape)\n",
    "print('Target class:', np.unique(y_train))"
   ],
   "outputs": [
    {
     "output_type": "stream",
     "name": "stdout",
     "text": [
      "(398, 30)\n",
      "(398,)\n",
      "(171, 30)\n",
      "(171,)\n",
      "Target class: [0 1]\n"
     ]
    }
   ],
   "metadata": {}
  },
  {
   "cell_type": "code",
   "execution_count": 7,
   "source": [
    "model3 = GradientBoosting(n_estimators=200, max_depth=3, min_sample_split=10, learning_rate=0.1, isClassification=True)\n",
    "tree = model3.fit(X_train, y_train)\n",
    "yhat = model3.predict(X_test, tree, return_argmax=True)\n",
    "print(classification_report(y_test, yhat))"
   ],
   "outputs": [
    {
     "output_type": "stream",
     "name": "stdout",
     "text": [
      "              precision    recall  f1-score   support\n",
      "\n",
      "           0       0.94      0.97      0.95        63\n",
      "           1       0.98      0.96      0.97       108\n",
      "\n",
      "   micro avg       0.96      0.96      0.96       171\n",
      "   macro avg       0.96      0.97      0.96       171\n",
      "weighted avg       0.97      0.96      0.97       171\n",
      "\n"
     ]
    }
   ],
   "metadata": {}
  },
  {
   "cell_type": "code",
   "execution_count": 8,
   "source": [
    "X, y = load_digits(return_X_y=True)\n",
    "\n",
    "X_train, X_test, y_train, y_test = train_test_split(X, y, test_size=0.3, random_state=42)\n",
    "\n",
    "print(X_train.shape)\n",
    "print(y_train.shape)\n",
    "print(X_test.shape)\n",
    "print(y_test.shape)\n",
    "print('Target class:', np.unique(y_train))"
   ],
   "outputs": [
    {
     "output_type": "stream",
     "name": "stdout",
     "text": [
      "(1257, 64)\n",
      "(1257,)\n",
      "(540, 64)\n",
      "(540,)\n",
      "Target class: [0 1 2 3 4 5 6 7 8 9]\n"
     ]
    }
   ],
   "metadata": {}
  },
  {
   "cell_type": "code",
   "execution_count": 12,
   "source": [
    "model4 = GradientBoosting(n_estimators=200, max_depth=4, min_sample_split=10, learning_rate=0.1, isClassification=True)\n",
    "tree = model4.fit(X_train, y_train)\n",
    "yhat = model4.predict(X_test, tree, return_argmax=True)\n",
    "print(classification_report(y_test, yhat))"
   ],
   "outputs": [
    {
     "output_type": "stream",
     "name": "stdout",
     "text": [
      "              precision    recall  f1-score   support\n",
      "\n",
      "           0       1.00      0.94      0.97        53\n",
      "           1       0.94      0.96      0.95        50\n",
      "           2       1.00      0.96      0.98        47\n",
      "           3       0.96      0.93      0.94        54\n",
      "           4       0.97      0.98      0.98        60\n",
      "           5       0.90      0.97      0.93        66\n",
      "           6       0.98      0.96      0.97        53\n",
      "           7       0.93      0.98      0.96        55\n",
      "           8       0.89      0.93      0.91        43\n",
      "           9       0.95      0.88      0.91        59\n",
      "\n",
      "   micro avg       0.95      0.95      0.95       540\n",
      "   macro avg       0.95      0.95      0.95       540\n",
      "weighted avg       0.95      0.95      0.95       540\n",
      "\n"
     ]
    }
   ],
   "metadata": {}
  }
 ],
 "metadata": {
  "kernelspec": {
   "name": "python3",
   "display_name": "Python 3.7.3 64-bit ('base': conda)"
  },
  "language_info": {
   "codemirror_mode": {
    "name": "ipython",
    "version": 3
   },
   "file_extension": ".py",
   "mimetype": "text/x-python",
   "name": "python",
   "nbconvert_exporter": "python",
   "pygments_lexer": "ipython3",
   "version": "3.7.3"
  },
  "interpreter": {
   "hash": "650dfd14480f966cc92fa730880d68f1da63646daaa4e0547474494db91d8c97"
  }
 },
 "nbformat": 4,
 "nbformat_minor": 4
}