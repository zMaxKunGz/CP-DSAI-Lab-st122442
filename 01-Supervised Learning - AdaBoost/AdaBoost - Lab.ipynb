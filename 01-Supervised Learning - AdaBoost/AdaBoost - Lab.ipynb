{
 "cells": [
  {
   "cell_type": "markdown",
   "source": [
    "Modify the AdaBoost scratch code in our lecture such that:\n",
    "- Notice that if <code>err</code> = 0, then $\\alpha$ will be undefined, thus attempt to fix this by adding some very small value to the lower term\n",
    "- Notice that sklearn version of AdaBoost has a parameter <code>learning_rate</code>.  This is in fact the $\\frac{1}{2}$ in front of the $\\alpha$ calculation.  Attempt to change this $\\frac{1}{2}$ into a parameter called <code>eta</code>, and try different values of it and see whether accuracy is improved.  Note that sklearn default this value to 1.\n",
    "- Observe that we are actually using sklearn DecisionTreeClassifier.  If we take a look at it closely, it is actually using weighted gini index, instead of weighted errors that we learn above.  Attempt to write your own class of <code>class Stump</code> that actually uses weighted errors, instead of weighted gini index.   To check whether your stump really works, it should give you still relatively the same accuracy.  In addition, if you do not change y to -1, it will result in very bad accuracy.  Unlike sklearn version of DecisionTree, it will STILL work even y is not change to -1 since it uses gini index\n",
    "- Put everything into a class"
   ],
   "metadata": {}
  },
  {
   "cell_type": "code",
   "execution_count": 5,
   "source": [
    "from sklearn.model_selection import train_test_split\n",
    "from sklearn.datasets import make_moons\n",
    "import numpy as np\n",
    "import matplotlib.pyplot as plt\n",
    "from sklearn.datasets import make_classification\n",
    "from sklearn.tree import DecisionTreeClassifier\n",
    "from sklearn.metrics import classification_report\n",
    "\n",
    "X, y = make_moons(n_samples=500, noise=0.30, random_state=42)\n",
    "X_train, X_test, y_train, y_test = train_test_split(X, y, random_state=42)\n",
    "\n",
    "X, y = make_classification(n_samples=500, random_state=1)\n",
    "y = np.where(y==0,-1,1)  #change our y to be -1 if it is 0, otherwise 1\n",
    "\n",
    "X_train, X_test, y_train, y_test = train_test_split(\n",
    "    X, y, test_size=0.3, random_state=42)"
   ],
   "outputs": [],
   "metadata": {}
  },
  {
   "cell_type": "code",
   "execution_count": 17,
   "source": [
    "class Stump:\n",
    "    def __init__(self):\n",
    "        self.feature_index = 0\n",
    "        self.threshold = 0\n",
    "        self.polarity = 0\n",
    "    \n",
    "    def fit(self, X, y, weight):\n",
    "        min_err = np.inf\n",
    "        for feature in range(X.shape[1]):\n",
    "            feature_vals = np.sort(np.unique(X[:, feature]))\n",
    "            for threshold_idx in range(len(feature_vals) - 1):\n",
    "                threshold = (feature_vals[threshold_idx] + feature_vals[threshold_idx+1]) / 2\n",
    "                for polarity in [1, -1]:\n",
    "                    yhat = np.ones(len(y))\n",
    "                    yhat[polarity * X[:, feature] < polarity * threshold] = -1\n",
    "                    err = weight[(yhat != y)].sum()\n",
    "\n",
    "                    if err < min_err:\n",
    "                        self.polarity = polarity\n",
    "                        self.threshold = threshold\n",
    "                        self.feature_index = feature\n",
    "                        min_err = err\n",
    "\n",
    "    def predict(self, X):\n",
    "        predict = np.zeros(X.shape[0])\n",
    "        for idx, value in enumerate(X[:, self.feature_index]):\n",
    "            if value < self.threshold:\n",
    "                predict[idx] = self.polarity\n",
    "            else:\n",
    "                predict[idx] = self.polarity * -1\n",
    "        return predict"
   ],
   "outputs": [],
   "metadata": {}
  },
  {
   "cell_type": "code",
   "execution_count": 14,
   "source": [
    "class AdaBoost:\n",
    "    def __init__(self, S=20, learning_rate=1):\n",
    "        self.S = S\n",
    "        self.learning_rate = learning_rate\n",
    "        self.models = [Stump() for _ in range(S)]\n",
    "\n",
    "    def fit(self, X, y):\n",
    "        m = X.shape[0]\n",
    "        W = np.full(m, 1/m)\n",
    "\n",
    "        self.a_js = np.zeros(self.S)\n",
    "\n",
    "        for j, model in enumerate(self.models):\n",
    "            \n",
    "            model.fit(X, y, W)\n",
    "            \n",
    "            yhat = model.predict(X) \n",
    "            err = W[(yhat != y)].sum()\n",
    "            err = err if err != 0 else 0.000001\n",
    "                \n",
    "            a_j = self.learning_rate * np.log ((1 - err) / err) / 2\n",
    "            self.a_js[j] = a_j\n",
    "            \n",
    "            W = (W * np.exp(-a_j * y * yhat)) \n",
    "            W = W / sum (W)\n",
    "        return self.a_js\n",
    "    \n",
    "    def predict(self, X):\n",
    "        Hx = 0\n",
    "        for i, model in enumerate(self.models):\n",
    "            yhat = model.predict(X)\n",
    "            Hx += self.a_js[i] * yhat\n",
    "        return np.sign(Hx)"
   ],
   "outputs": [],
   "metadata": {}
  },
  {
   "cell_type": "code",
   "execution_count": 19,
   "source": [
    "model = AdaBoost(S=20, learning_rate=0.5)\n",
    "model.fit(X_train, y_train)\n",
    "yhat = model.predict(X_test)\n",
    "print(classification_report(y_test, yhat))"
   ],
   "outputs": [
    {
     "output_type": "stream",
     "name": "stdout",
     "text": [
      "              precision    recall  f1-score   support\n",
      "\n",
      "          -1       0.94      0.96      0.95        79\n",
      "           1       0.96      0.93      0.94        71\n",
      "\n",
      "   micro avg       0.95      0.95      0.95       150\n",
      "   macro avg       0.95      0.95      0.95       150\n",
      "weighted avg       0.95      0.95      0.95       150\n",
      "\n"
     ]
    }
   ],
   "metadata": {}
  }
 ],
 "metadata": {
  "kernelspec": {
   "name": "python3",
   "display_name": "Python 3.7.3 64-bit ('base': conda)"
  },
  "language_info": {
   "codemirror_mode": {
    "name": "ipython",
    "version": 3
   },
   "file_extension": ".py",
   "mimetype": "text/x-python",
   "name": "python",
   "nbconvert_exporter": "python",
   "pygments_lexer": "ipython3",
   "version": "3.7.3"
  },
  "interpreter": {
   "hash": "650dfd14480f966cc92fa730880d68f1da63646daaa4e0547474494db91d8c97"
  }
 },
 "nbformat": 4,
 "nbformat_minor": 4
}