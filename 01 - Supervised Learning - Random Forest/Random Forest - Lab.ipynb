{
 "cells": [
  {
   "cell_type": "markdown",
   "source": [
    "Modify the Bagging scratch code in our lecture such that:\n",
    "- Calculate for oob evaluation for each bootstrapped dataset, and also the average score\n",
    "- Change the code to \"without replacement\"\n",
    "- Put everything into a class <code>Bagging</code>.  It should have at least two methods, <code>fit(X_train, y_train)</code>, and <code>predict(X_test)</code>\n",
    "- Modify the code from above to randomize features.  Set the number of features to be used in each tree to be <code>sqrt(n)</code>, and then select a subset of features for each tree.  This can be easily done by setting our DecisionTreeClassifier <code>max_features</code> to 'sqrt'"
   ],
   "metadata": {}
  },
  {
   "cell_type": "code",
   "execution_count": 49,
   "source": [
    "from sklearn.datasets import load_iris\n",
    "from sklearn.model_selection import train_test_split\n",
    "from sklearn.metrics import classification_report, accuracy_score\n",
    "from sklearn.tree import DecisionTreeClassifier\n",
    "import numpy as np\n",
    "import random\n",
    "from scipy import stats\n",
    "\n",
    "iris = load_iris()\n",
    "X = iris.data\n",
    "y = iris.target\n",
    "\n",
    "X_train, X_test, y_train, y_test = train_test_split(X, y, \n",
    "                test_size=0.3, shuffle=True, random_state=42)"
   ],
   "outputs": [],
   "metadata": {}
  },
  {
   "cell_type": "code",
   "execution_count": 52,
   "source": [
    "class Bagging:\n",
    "    def __init__(self, B, bootstrap_ratio, with_no_replacement=True):\n",
    "        self.B = B\n",
    "        self.bootstrap_ratio = bootstrap_ratio\n",
    "        self.with_no_replacement = with_no_replacement\n",
    "        self.tree_params = {'max_depth': 2,\n",
    "                            'criterion': 'gini',\n",
    "                            'min_samples_split': 5,\n",
    "                            'max_features': 'sqrt'}\n",
    "        self.models = [DecisionTreeClassifier(**self.tree_params) for _ in range(B)]\n",
    "\n",
    "    def fit(self, X, y):\n",
    "        xsamples, ysamples, x_oob_samples, y_oob_samples = self.bag(X, y)\n",
    "        for i, model in enumerate(self.models):\n",
    "            _X = xsamples[i, :]\n",
    "            _y = ysamples[i, :]\n",
    "            model.fit(_X, _y)\n",
    "\n",
    "        print('======== Evaluation score for each tree with oob sample =========')\n",
    "        avg_score_oob = 0\n",
    "        for i, model in enumerate(self.models):\n",
    "            yhat = model.predict(x_oob_samples[i])\n",
    "            accuracy = accuracy_score(y_oob_samples[i], yhat)\n",
    "            avg_score_oob += accuracy\n",
    "            print(f\"Tree {i} accuracy score: {accuracy}\")\n",
    "        \n",
    "        print('======== Average score with oob sample =========')\n",
    "        print(avg_score_oob/self.B)\n",
    "            \n",
    "\n",
    "    def predict(self, X):\n",
    "        predictions = np.zeros((self.B, X.shape[0]))\n",
    "        for i, model in enumerate(self.models):\n",
    "            yhat = model.predict(X_test)\n",
    "            predictions[i, :] = yhat\n",
    "        return stats.mode(predictions).mode[0]\n",
    "\n",
    "    def bag(self, X, y):\n",
    "        m, n = X_train.shape\n",
    "        sample_size = int(self.bootstrap_ratio * m)\n",
    "\n",
    "        xsamples = np.zeros((self.B, sample_size, n))\n",
    "        ysamples = np.zeros((self.B, sample_size))\n",
    "\n",
    "        oob_sample_size = m - sample_size\n",
    "        x_oob_samples = np.zeros((self.B, oob_sample_size, n))\n",
    "        y_oob_samples = np.zeros((self.B, oob_sample_size))\n",
    "\n",
    "        for i in range(self.B):\n",
    "            used_idx = []\n",
    "            for j in range(sample_size):\n",
    "                idx = random.randrange(m)   #<----with replacement #change so no repetition\n",
    "                if self.with_no_replacement:\n",
    "                    while idx in used_idx:\n",
    "                        idx = random.randrange(m)\n",
    "                used_idx.append(idx)\n",
    "                xsamples[i, j, :] = X_train[idx]\n",
    "                ysamples[i, j] = y_train[idx]\n",
    "            oob_mask = np.ones(m, dtype=bool)\n",
    "            oob_mask[used_idx] = False\n",
    "            x_oob_samples[i] = X[oob_mask]\n",
    "            y_oob_samples[i] = y[oob_mask]\n",
    "        return xsamples, ysamples, x_oob_samples, y_oob_samples\n"
   ],
   "outputs": [],
   "metadata": {}
  },
  {
   "cell_type": "code",
   "execution_count": 58,
   "source": [
    "model = Bagging(B=5, bootstrap_ratio=0.8)\n",
    "model.fit(X_train, y_train)\n",
    "yhat = model.predict(X_test)\n",
    "print(classification_report(y_test, yhat))"
   ],
   "outputs": [
    {
     "output_type": "stream",
     "name": "stdout",
     "text": [
      "======== Evaluation score for each tree with oob sample =========\n",
      "Tree 0 accuracy score: 1.0\n",
      "Tree 1 accuracy score: 0.9047619047619048\n",
      "Tree 2 accuracy score: 1.0\n",
      "Tree 3 accuracy score: 1.0\n",
      "Tree 4 accuracy score: 0.8571428571428571\n",
      "======== Average score with oob sample =========\n",
      "0.9523809523809523\n",
      "              precision    recall  f1-score   support\n",
      "\n",
      "           0       1.00      1.00      1.00        19\n",
      "           1       1.00      1.00      1.00        13\n",
      "           2       1.00      1.00      1.00        13\n",
      "\n",
      "    accuracy                           1.00        45\n",
      "   macro avg       1.00      1.00      1.00        45\n",
      "weighted avg       1.00      1.00      1.00        45\n",
      "\n"
     ]
    }
   ],
   "metadata": {}
  }
 ],
 "metadata": {
  "kernelspec": {
   "name": "python3",
   "display_name": "Python 3.7.6 64-bit ('base': conda)"
  },
  "language_info": {
   "codemirror_mode": {
    "name": "ipython",
    "version": 3
   },
   "file_extension": ".py",
   "mimetype": "text/x-python",
   "name": "python",
   "nbconvert_exporter": "python",
   "pygments_lexer": "ipython3",
   "version": "3.7.6"
  },
  "interpreter": {
   "hash": "1df8770f36cccaa28b49186283820102a7be0be7912bde98ce292c19ce2372ee"
  }
 },
 "nbformat": 4,
 "nbformat_minor": 4
}