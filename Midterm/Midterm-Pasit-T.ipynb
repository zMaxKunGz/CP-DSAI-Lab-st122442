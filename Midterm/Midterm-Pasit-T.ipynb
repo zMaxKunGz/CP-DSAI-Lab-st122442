{
 "cells": [
  {
   "cell_type": "markdown",
   "source": [
    "# CP - Midterm - 2021\n",
    "## Instruction\n",
    "* Modify this file to be Midterm-<Your FirstName-[First Letter of Last Name]>, e.g., Midterm-Chaklam-S.ipynb\n",
    "* This exam is open-booked; open-internet.\n",
    "* You ARE NOT allowed to use sklearn or any libraries, unless stated.\n",
    "* The completed exams in **.ipynb AND .pdf format** shall be submitted at the Google Classroom \n",
    "* Any instructions not given, feel free to make any assumptions\n",
    "\n",
    "## Examination Rules:\n",
    "* Turn on your webcam during the entire period of the exam time\n",
    "* All work should belong to you. A student should NOT engage in the following activities which proctors reserve the right to interpret any of such act as academic dishonesty without questioning:\n",
    "* Chatting with any human beings physically or via online methods\n",
    "* Plagiarism of any sort, i.e., copying from friends. Both copee and copier shall be given a minimum penalty of zero mark for that particular question or the whole exam.\n",
    "* No make-up exams are allowed. Special considerations may be given upon a valid reason on unpredictable events such as accidents or serious sickness."
   ],
   "metadata": {}
  },
  {
   "cell_type": "code",
   "execution_count": 1,
   "source": [
    "import numpy as np\n",
    "import matplotlib.pyplot as plt"
   ],
   "outputs": [],
   "metadata": {}
  },
  {
   "cell_type": "markdown",
   "source": [
    "## Question 1 (100 points): Basic Python Skills\n",
    "\n",
    "By now you should be comfortable with creating classes. Please complete the followings:\n",
    "\n",
    "1) First, please create a Candy() class \n",
    "- Please create a Candy() class that requires an input of 'color' attribute assigned in its <code> __ init __  </code>  function when you create an object.(4 point)\n",
    "- the second attribute in the <code> __ init __  </code> function is 'price' which should automatically be assigned according to colors:\n",
    "  * red costs 2 baht, blue costs 4 baht and others cost 6 baht (12 points)\n",
    "- Please add a <code> __ str __  </code> method that will allow you to print out the color and price of the candy (8 points)\n",
    "\n",
    "2) We will need another class called <code>CandyBasket()</code> which we will use to keep our candies in. This class should have the following methods (or functions) :\n",
    "\n",
    "- It should automatically create an empty basket when you create an object from this class.   \n",
    "  Please create 2 objects called <code>Basket1</code> and <code>Basket2</code> from the <code>CandyBasket()</code> class (8 points)\n",
    "  \n",
    "- Create a function for adding candy into the basket. <br>\n",
    "  Please add 3 Red candies and 3 Yellow candies into <code>Basket1</code>\n",
    "  and add 3 Blue candies into <code>Basket2</code>. (8 points)\n",
    "  \n",
    "- Create a <code> __ len __  </code> function that will allow you to print out the number of candies in the basket.  <br>\n",
    "  Please print out the number of candies in <code>Basket1</code> and <code>Basket2</code> (8 points)\n",
    "  \n",
    "- Create a <code> __ str __  </code> function that will allow you to print out the content of the basket.  <br>\n",
    "  Please print out the content of <code>Basket1</code> and <code>Basket2</code> (4 point)\n",
    "    \n",
    "- Also create a function that can plot a bar plot to show the number of candies of each color.  <br>\n",
    "  Please plot out the content of <code>Basket1</code> and <code>Basket2</code> (8 points)\n",
    "    \n",
    "    \n",
    "- Create a function for removing a candy from the basket you should be able to choose which candy to remove ! ) <br>\n",
    "  Please remove 2 Yellow candies from <code>Basket1</code> (12 points)\n",
    "  \n",
    "- Create a function that will allow you to transfer a specific color of candy from one basket to another. (It should also check and **raise and error** if you don't have the specific color of candy that you want to transfer)  <br>\n",
    "  Please transfer a Purple candy from <code>Basket2</code> to <code>Basket1</code> (it should give you an error).\n",
    "  and transfer 2 Red candies from <code>Basket1</code> to <code>Basket2</code>. (20 points)\n",
    "  \n",
    "- Create one last function that will calculate the total price of all candies in your basket. <br>\n",
    "  Please calculate and print out the total price of candies in <code>Basket1</code> and <code>Basket2</code> (8 points)"
   ],
   "metadata": {}
  },
  {
   "cell_type": "code",
   "execution_count": 2,
   "source": [
    "class Candy:\n",
    "    def __init__(self, color) -> None:\n",
    "        self.color = color\n",
    "        if color == 'red':\n",
    "            self.price = 2\n",
    "        elif color == 'blue':\n",
    "            self.price = 4\n",
    "        else:\n",
    "            self.price = 6\n",
    "\n",
    "    def __str__(self) -> str:\n",
    "        return f'Candy color is {self.color}. The price is {self.price}'"
   ],
   "outputs": [],
   "metadata": {}
  },
  {
   "cell_type": "code",
   "execution_count": 3,
   "source": [
    "class CandyBasket:\n",
    "    def __init__(self) -> None:\n",
    "        self.basket = []\n",
    "\n",
    "    def __len__(self) -> int:\n",
    "        return len(self.basket)\n",
    "\n",
    "    def __str__(self) -> str:\n",
    "        colors = ''\n",
    "        for candy in self.basket:\n",
    "            colors += candy.color + ' '\n",
    "        return f'There are {len(self)} candies in basket. Colors: {colors}'\n",
    "    \n",
    "    def addCandy(self, candy) -> None:\n",
    "        self.basket.append(candy)\n",
    "\n",
    "    def plotCandy(self) -> None:\n",
    "        colors, counts = np.unique([candy.color for candy in self.basket], return_counts=True)\n",
    "        plt.bar(colors, counts)\n",
    "        plt.xlabel('Candy color')\n",
    "        plt.ylabel('Candy count')\n",
    "        plt.title('Numbers of candy in basket')\n",
    "        plt.show()\n",
    "\n",
    "    def removeCandy(self, color):\n",
    "        for idx, candy in enumerate(self.basket):\n",
    "            if candy.color == color:\n",
    "                self.basket.pop(idx)\n",
    "                break\n",
    "\n",
    "    def transferCandy(self, basket, color):\n",
    "        isNotFound = True\n",
    "        for idx, candy in enumerate(self.basket):\n",
    "            if candy.color == color:\n",
    "                isNotFound = False\n",
    "                basket.addCandy(self.basket[idx])\n",
    "                self.basket.pop(idx)\n",
    "                break\n",
    "        if isNotFound:\n",
    "            raise ValueError('Can not find any candy with given color')\n",
    "\n",
    "    def totalPrice(self):\n",
    "        return sum([candy.price for candy in self.basket])"
   ],
   "outputs": [],
   "metadata": {}
  },
  {
   "cell_type": "code",
   "execution_count": 4,
   "source": [
    "basket1 = CandyBasket()\n",
    "basket2 = CandyBasket()\n",
    "\n",
    "basket1.addCandy(Candy(color='red'))\n",
    "basket1.addCandy(Candy(color='red'))\n",
    "basket1.addCandy(Candy(color='red'))\n",
    "basket1.addCandy(Candy(color='yellow'))\n",
    "basket1.addCandy(Candy(color='yellow'))\n",
    "basket1.addCandy(Candy(color='yellow'))\n",
    "\n",
    "basket2.addCandy(Candy(color='blue'))\n",
    "basket2.addCandy(Candy(color='blue'))\n",
    "basket2.addCandy(Candy(color='blue'))\n",
    "\n",
    "print(f'Basket1 size {len(basket1)}')\n",
    "print(f'Basket2 size {len(basket2)}')\n",
    "\n",
    "print(basket1)\n",
    "print(basket2)"
   ],
   "outputs": [
    {
     "output_type": "stream",
     "name": "stdout",
     "text": [
      "Basket1 size 6\n",
      "Basket2 size 3\n",
      "There are 6 candies in basket. Colors: red red red yellow yellow yellow \n",
      "There are 3 candies in basket. Colors: blue blue blue \n"
     ]
    }
   ],
   "metadata": {}
  },
  {
   "cell_type": "code",
   "execution_count": 5,
   "source": [
    "basket1.plotCandy()"
   ],
   "outputs": [
    {
     "output_type": "display_data",
     "data": {
      "image/png": "[encoded data removed]",
      "text/plain": [
       "<Figure size 432x288 with 1 Axes>"
      ]
     },
     "metadata": {
      "needs_background": "light"
     }
    }
   ],
   "metadata": {}
  },
  {
   "cell_type": "code",
   "execution_count": 6,
   "source": [
    "basket2.plotCandy()"
   ],
   "outputs": [
    {
     "output_type": "display_data",
     "data": {
      "image/png": "[encoded data removed]",
      "text/plain": [
       "<Figure size 432x288 with 1 Axes>"
      ]
     },
     "metadata": {
      "needs_background": "light"
     }
    }
   ],
   "metadata": {}
  },
  {
   "cell_type": "code",
   "execution_count": 7,
   "source": [
    "basket1.removeCandy('yellow')\n",
    "basket1.removeCandy('yellow')\n",
    "print(basket1)"
   ],
   "outputs": [
    {
     "output_type": "stream",
     "name": "stdout",
     "text": [
      "There are 4 candies in basket. Colors: red red red yellow \n"
     ]
    }
   ],
   "metadata": {}
  },
  {
   "cell_type": "code",
   "execution_count": 8,
   "source": [
    "basket2.transferCandy(basket1, 'purple')"
   ],
   "outputs": [
    {
     "output_type": "error",
     "ename": "ValueError",
     "evalue": "Can not find any candy with given color",
     "traceback": [
      "\u001b[0;31m---------------------------------------------------------------------------\u001b[0m",
      "\u001b[0;31mValueError\u001b[0m                                Traceback (most recent call last)",
      "\u001b[0;32m<ipython-input-8-5a96b8d968ea>\u001b[0m in \u001b[0;36m<module>\u001b[0;34m\u001b[0m\n\u001b[0;32m----> 1\u001b[0;31m \u001b[0mbasket2\u001b[0m\u001b[0;34m.\u001b[0m\u001b[0mtransferCandy\u001b[0m\u001b[0;34m(\u001b[0m\u001b[0mbasket1\u001b[0m\u001b[0;34m,\u001b[0m \u001b[0;34m'purple'\u001b[0m\u001b[0;34m)\u001b[0m\u001b[0;34m\u001b[0m\u001b[0;34m\u001b[0m\u001b[0m\n\u001b[0m",
      "\u001b[0;32m<ipython-input-3-05390775b330>\u001b[0m in \u001b[0;36mtransferCandy\u001b[0;34m(self, basket, color)\u001b[0m\n\u001b[1;32m     38\u001b[0m                 \u001b[0;32mbreak\u001b[0m\u001b[0;34m\u001b[0m\u001b[0;34m\u001b[0m\u001b[0m\n\u001b[1;32m     39\u001b[0m         \u001b[0;32mif\u001b[0m \u001b[0misNotFound\u001b[0m\u001b[0;34m:\u001b[0m\u001b[0;34m\u001b[0m\u001b[0;34m\u001b[0m\u001b[0m\n\u001b[0;32m---> 40\u001b[0;31m             \u001b[0;32mraise\u001b[0m \u001b[0mValueError\u001b[0m\u001b[0;34m(\u001b[0m\u001b[0;34m'Can not find any candy with given color'\u001b[0m\u001b[0;34m)\u001b[0m\u001b[0;34m\u001b[0m\u001b[0;34m\u001b[0m\u001b[0m\n\u001b[0m\u001b[1;32m     41\u001b[0m \u001b[0;34m\u001b[0m\u001b[0m\n\u001b[1;32m     42\u001b[0m     \u001b[0;32mdef\u001b[0m \u001b[0mtotalPrice\u001b[0m\u001b[0;34m(\u001b[0m\u001b[0mself\u001b[0m\u001b[0;34m)\u001b[0m\u001b[0;34m:\u001b[0m\u001b[0;34m\u001b[0m\u001b[0;34m\u001b[0m\u001b[0m\n",
      "\u001b[0;31mValueError\u001b[0m: Can not find any candy with given color"
     ]
    }
   ],
   "metadata": {}
  },
  {
   "cell_type": "code",
   "execution_count": 9,
   "source": [
    "basket1.transferCandy(basket2, 'red')\n",
    "basket1.transferCandy(basket2, 'red')\n",
    "print('Basket1: ', basket1)\n",
    "print('Basket2: ', basket2)"
   ],
   "outputs": [
    {
     "output_type": "stream",
     "name": "stdout",
     "text": [
      "Basket1:  There are 2 candies in basket. Colors: red yellow \n",
      "Basket2:  There are 5 candies in basket. Colors: blue blue blue red red \n"
     ]
    }
   ],
   "metadata": {}
  },
  {
   "cell_type": "code",
   "execution_count": 10,
   "source": [
    "print(f'Total price for basket1 is {basket1.totalPrice()}')\n",
    "print(f'Total price for basket2 is {basket2.totalPrice()}')"
   ],
   "outputs": [
    {
     "output_type": "stream",
     "name": "stdout",
     "text": [
      "Total price for basket1 is 8\n",
      "Total price for basket2 is 16\n"
     ]
    }
   ],
   "metadata": {}
  },
  {
   "cell_type": "markdown",
   "source": [
    "## Question 2 (195 points): Data Science\n",
    "\n",
    "Complete the following data science pipeline:\n",
    "\n",
    "1) **Loading**:  Load boston data from sklearn.datasets (5 points) <br>\n",
    "\n",
    "2) **Feature Selection/Engineering**\n",
    "\n",
    "* Perform some basic exploratory data analysis as appropriate to determine what are the top five features potentially useful for the prediction (15 points) <br>\n",
    "\n",
    "* Create X using the top five features, and the corresponding y (10 points) <br>  \n",
    "\n",
    "* Do train test split the data **FROM SCRATCH** (5 points) <br>\n",
    "\n",
    "* Scale your data **FROM SCRATCH** using **Box-Cox transform** with $\\lambda$ = -1 (15 points) : (6.3.2.2. Mapping to a Gaussian distribution **Box-Cox transform**) https://scikit-learn.org/stable/modules/preprocessing.html#mapping-to-a-gaussian-distribution <br>\n",
    "\n",
    "$$\n",
    "x_i^{(\\lambda)} = \\begin{cases}\n",
    "      \\displaystyle\\frac{x_i^{(\\lambda)} - 1}{\\lambda} & \\text{if }  \\lambda \\neq 0  \\\\\n",
    "      \\ln (x_i) & \\text{if } \\lambda = 0 \\\\\n",
    "      \\end{cases}\n",
    "$$\n",
    "\n",
    "3) **Model Implementation**: Implement Linear Regression class **FROM SCRATCH** with the following features <br>\n",
    "* choice of **weight initialization** (normal distribution with mean=0 and std=1, random between 0-1, all zero) (15 points)\n",
    "* choice of **sampling method** (batch, mini batch, stochastic) (15 points) \n",
    "* **raise ValueError** where appropriate (5 points) \n",
    "* use **without replacement** for stochastic  (5 points) \n",
    "* choice of **loss function** (normal, ridge)   (15 points) \n",
    "    * normal loss function\n",
    "    \n",
    "        $$J(\\theta) = \\frac{1}{2}\\sum_{i=1}^m(h_\\theta(x^{(i)}) - y^{(i)})^2$$    \n",
    "    \n",
    "        $$\\frac{\\partial J}{\\partial \\theta_j} = \\sum_{i=1}^{m}(h^{(i)}-y^{(i)})x_j$$\n",
    "\n",
    "    * ridge loss function\n",
    "    \n",
    "        $$ J(\\theta) = \\frac{1}{2}\\sum_{i=1}^m(h_\\theta(x^{(i)}) - y^{(i)})^2 + \\lambda\\sum_{i=1}^n \\theta_i^2$$\n",
    "        \n",
    "        $$\\frac{\\partial J}{\\partial \\theta_j} = \\sum_{i=1}^{m}(h^{(i)}-y^{(i)})x_j + \\lambda \\theta_j$$\n",
    "\n",
    "* Implement a feature importance function **FROM SCRATCH** which will output a bar plot, plotting the importance scores of each features in sorted order (15 points).\n",
    "    * If we have scaled our data in our beginning (e.g., standard scaler), feature importance scores are simply the weights.  Larger weights imply stronger importance.  Anyhow, plotting them can be nasty since some weights can be very big, thus you may want to log-transform them. \n",
    "\n",
    "4) **Training/Experiment**: Implement a cross validation experiment **FROM SCRATCH** comparing their cross-validation accuracy, and output their feature importance scores (15 points)\n",
    "\n",
    "* mini-batch sampling, normal loss\n",
    "* mini-batch sampling, ridge loss with lambda of 0.05\n",
    "* stochastic sampling, normal loss\n",
    "* stochastic sampling, ridge loss with lambda of 0.05\n",
    "\n",
    "5) **Training/Testing**: Select the best parameters you found in 4), train and verify the best model with the testing set. Plot training and testing losses and accuracies as number of iters increases (10 points)\n",
    "    \n",
    "6) **Communication**: Interpret your results (e.g., overfitting, weights, accuracy, etc.).  Critical analyses will be used as main criteria for scoring (50 points)"
   ],
   "metadata": {}
  },
  {
   "cell_type": "code",
   "execution_count": 11,
   "source": [
    "from sklearn.datasets import load_boston\n",
    "import pandas as pd\n",
    "from scipy.stats import pearsonr\n",
    "import random\n",
    "from scipy.stats import truncnorm"
   ],
   "outputs": [],
   "metadata": {}
  },
  {
   "cell_type": "code",
   "execution_count": 12,
   "source": [
    "data = load_boston()\n",
    "X = data.data\n",
    "y = data.target\n",
    "\n",
    "print(X.shape)\n",
    "print(y.shape)"
   ],
   "outputs": [
    {
     "output_type": "stream",
     "name": "stdout",
     "text": [
      "(506, 13)\n",
      "(506,)\n"
     ]
    }
   ],
   "metadata": {}
  },
  {
   "cell_type": "markdown",
   "source": [
    "Calculate correlation between each features and target"
   ],
   "metadata": {}
  },
  {
   "cell_type": "code",
   "execution_count": 13,
   "source": [
    "for feature_idx in range(X.shape[1]):\n",
    "    print(f'Correlation feature{feature_idx} and target = {pearsonr(X[:, feature_idx], y)[0]}')"
   ],
   "outputs": [
    {
     "output_type": "stream",
     "name": "stdout",
     "text": [
      "Correlation feature0 and target = -0.3883046085868114\n",
      "Correlation feature1 and target = 0.36044534245054394\n",
      "Correlation feature2 and target = -0.48372516002837274\n",
      "Correlation feature3 and target = 0.17526017719029904\n",
      "Correlation feature4 and target = -0.427320772373283\n",
      "Correlation feature5 and target = 0.6953599470715388\n",
      "Correlation feature6 and target = -0.376954565004596\n",
      "Correlation feature7 and target = 0.24992873408590385\n",
      "Correlation feature8 and target = -0.3816262306397781\n",
      "Correlation feature9 and target = -0.46853593356776657\n",
      "Correlation feature10 and target = -0.5077866855375619\n",
      "Correlation feature11 and target = 0.33346081965706625\n",
      "Correlation feature12 and target = -0.7376627261740146\n"
     ]
    }
   ],
   "metadata": {}
  },
  {
   "cell_type": "markdown",
   "source": [
    "As I calculate the correlation between each features and target, we can list the correlation ranking.<br>\n",
    "Top 5 correlation ranking feature index : 12 5 10 2 9<br>\n",
    "So, I will use only top 5 feature."
   ],
   "metadata": {}
  },
  {
   "cell_type": "code",
   "execution_count": 14,
   "source": [
    "X = np.array(X[:,[12, 5, 10, 2, 9]])\n",
    "print(X.shape)"
   ],
   "outputs": [
    {
     "output_type": "stream",
     "name": "stdout",
     "text": [
      "(506, 5)\n"
     ]
    }
   ],
   "metadata": {}
  },
  {
   "cell_type": "code",
   "execution_count": 15,
   "source": [
    "def trainTestSplit(X, y, test_ratio):\n",
    "    m, _ = X.shape\n",
    "    idx = np.arange(m)\n",
    "    np.random.shuffle(idx)\n",
    "\n",
    "    split_idx = int(m*test_ratio)\n",
    "    test_idx = idx[0: split_idx]\n",
    "    train_idx = idx[split_idx: ]\n",
    "\n",
    "    X_train = X[train_idx, :]\n",
    "    y_train = y[train_idx]\n",
    "    X_test = X[test_idx, :]\n",
    "    y_test = y[test_idx]\n",
    "    return X_train, y_train, X_test, y_test\n",
    "\n",
    "def boxCoxTransform(X, lambd):\n",
    "    if lambd == 0:\n",
    "        return np.log(X)\n",
    "    else:\n",
    "        return (X**-1 - 1) / lambd"
   ],
   "outputs": [],
   "metadata": {}
  },
  {
   "cell_type": "code",
   "execution_count": 16,
   "source": [
    "X = boxCoxTransform(X, lambd=-1)\n",
    "X_train, y_train, X_test, y_test = trainTestSplit(X, y, 0.3)\n",
    "\n",
    "intercept = np.ones((X_train.shape[0], 1))\n",
    "X_train = np.concatenate((intercept, X_train), axis=1)\n",
    "intercept = np.ones((X_test.shape[0], 1))\n",
    "X_test = np.concatenate((intercept, X_test), axis=1)\n",
    "\n",
    "print(X_train.shape)\n",
    "print(y_train.shape)\n",
    "print(X_test.shape)\n",
    "print(y_test.shape)"
   ],
   "outputs": [
    {
     "output_type": "stream",
     "name": "stdout",
     "text": [
      "(355, 6)\n",
      "(355,)\n",
      "(151, 6)\n",
      "(151,)\n"
     ]
    }
   ],
   "metadata": {}
  },
  {
   "cell_type": "code",
   "execution_count": 21,
   "source": [
    "class RegressionModel:\n",
    "    \n",
    "    def __init__(self, max_iteration = 10000, alpha = 0.0001, loss_old = 10000, method=\"batch\",\n",
    "    tol = 1e-5, weight_init_method='norm', loss_func='mse', lambd=0.05) -> None:\n",
    "        self.max_iter = max_iteration\n",
    "        self.alpha = alpha\n",
    "        self.loss_old = loss_old\n",
    "        self.method = method\n",
    "        self.stop_iter = 0\n",
    "        self.tol = tol\n",
    "        self.mini_batch_size = 100\n",
    "        self.weight_init_method = weight_init_method\n",
    "        self.loss_func = loss_func\n",
    "        self.lambd = lambd\n",
    "\n",
    "    def predict(self, X):\n",
    "        return np.dot(X, self.theta)\n",
    "\n",
    "    def loss(self, y, yhat):\n",
    "        if self.loss_func == 'mse':\n",
    "            return ((y - yhat)**2).sum() / 2\n",
    "        elif self.loss_func == 'ridge':\n",
    "            return (((y - yhat)**2).sum() / 2) + (self.lambd * (self.theta**2).sum())\n",
    "        else:\n",
    "            raise ValueError('Wrong loss function method [mse, ridge]')\n",
    "\n",
    "    def error(self, y, yhat):\n",
    "        return ((y - yhat)**2).sum() / y.shape[0]\n",
    "\n",
    "    def gradient(self, X, loss):\n",
    "        if self.loss_func == 'mse':\n",
    "            return X.T @ loss\n",
    "        elif self.loss_func == 'ridge':\n",
    "            return X.T @ loss + (self.lambd * self.theta)\n",
    "        else:\n",
    "            raise ValueError('Wrong loss function method [mse, ridge]')\n",
    "\n",
    "    def getTruncatedNormal(self, mean=0, sd=1, low=0, upp=10):\n",
    "        return truncnorm((low - mean) / sd, (upp - mean) / sd, loc=mean, scale=sd)\n",
    "\n",
    "    def thetaInit(self, X):\n",
    "        if self.weight_init_method == 'norm':\n",
    "            mean = 0\n",
    "            std = 1\n",
    "            trunc = self.getTruncatedNormal(mean, std, 0, 1)\n",
    "            return trunc.rvs(X.shape[1])\n",
    "        elif self.weight_init_method == 'zero':\n",
    "            return np.zeros(X.shape[1])\n",
    "        else:\n",
    "            raise ValueError('Wrong weight method init')\n",
    "\n",
    "    def gradientDescend(self, X, y):\n",
    "        loss_values = []\n",
    "        self.theta = self.thetaInit(X)\n",
    "        sto_used_index = []\n",
    "        for i in range(self.max_iter):\n",
    "            \n",
    "            if self.method == \"batch\":\n",
    "                X_train = X\n",
    "                y_train = y\n",
    "            elif self.method == \"mini-batch\":\n",
    "                index = np.random.randint(X.shape[0])\n",
    "                while index in sto_used_index:\n",
    "                    index = np.random.randint(X.shape[0])\n",
    "                X_train = X[index:index + self.mini_batch_size, :]\n",
    "                y_train = y[index:index + self.mini_batch_size]\n",
    "                sto_used_index.append(index)\n",
    "                if len(sto_used_index) == X.shape[0]:\n",
    "                    sto_used_index = []\n",
    "            elif self.method == \"stochastic\":\n",
    "                index = np.random.randint(X.shape[0])\n",
    "                while index in sto_used_index:\n",
    "                    index = np.random.randint(X.shape[0])\n",
    "                X_train = X[index, :].reshape(1, -1)\n",
    "                y_train = y[index]\n",
    "                sto_used_index.append(index)\n",
    "                if len(sto_used_index) == X.shape[0]:\n",
    "                    sto_used_index = []\n",
    "            else:\n",
    "                raise ValueError('Wrong training method selection batch, mini-batch, stochastic')\n",
    "\n",
    "            yhat = self.predict(X_train)\n",
    "            cost = yhat - y_train\n",
    "            grad = self.gradient(X_train, cost)\n",
    "            self.theta = self.theta - self.alpha * grad\n",
    "            \n",
    "            loss_new = self.loss(y_train, yhat)\n",
    "            loss_values.append(loss_new)\n",
    "            if self.isEarlyStop(loss_new, self.loss_old, self.tol):\n",
    "                self.stop_iter = i\n",
    "                break\n",
    "            else:\n",
    "                self.stop_iter = i\n",
    "                self.loss_old = loss_new\n",
    "            \n",
    "        return self.theta, loss_values\n",
    "\n",
    "    def isEarlyStop(self, loss_new, loss_old, tol) -> bool:\n",
    "        return np.abs(loss_new - loss_old) < tol\n",
    "    \n",
    "    def featureImportance(self):\n",
    "        feature_rank = np.argsort(self.theta)\n",
    "        sorted_theta = np.log(self.theta[feature_rank])\n",
    "        feature_rank = [str(idx) for idx in feature_rank]\n",
    "        plt.title('Feature score')\n",
    "        plt.bar(feature_rank, sorted_theta)\n",
    "    \n",
    "    def performCrossValidate(self, X_train, y_train, cv=10):\n",
    "        foldsize = int(X_train.shape[0]/cv)\n",
    "        cv_error = np.zeros(cv)\n",
    "        for f_idx, f_part in enumerate(range(0, X_train.shape[0], foldsize)):\n",
    "            X_test_ = X_train[f_part:f_part+foldsize]\n",
    "            y_test_ = y_train[f_part:f_part+foldsize]\n",
    "            X_train_ = np.concatenate((X_train[:f_part], X_train[f_part+foldsize:]))\n",
    "            y_train_ = np.concatenate((y_train[:f_part], y_train[f_part+foldsize:]))\n",
    "            \n",
    "            self.gradientDescend(X_train, y_train)\n",
    "            yhat = self.predict(X_test)\n",
    "\n",
    "            cv_error[f_idx] = self.error(y_test, yhat)\n",
    "\n",
    "            return cv_error.mean()\n",
    "\n",
    "    def crossValidate(self, X, y):\n",
    "        self.method = 'mini-batch'\n",
    "        self.loss_func = 'mse'\n",
    "        error_score = self.performCrossValidate(X, y, cv=10)\n",
    "        print(f'mini-batch sampling, normal loss mse score: {error_score}\\ntheta: {self.theta}')\n",
    "        self.method = 'mini-batch'\n",
    "        self.loss_func = 'ridge'\n",
    "        error_score = self.performCrossValidate(X, y, cv=10)\n",
    "        print(f'mini-batch sampling, ridge loss with lambda of 0.05 mse score: {error_score}\\ntheta: {self.theta}')\n",
    "        self.method = 'stochastic'\n",
    "        self.loss_func = 'mse'\n",
    "        error_score = self.performCrossValidate(X, y, cv=10)\n",
    "        print(f'stochastic sampling, normal loss mse score: {error_score}\\ntheta: {self.theta}')\n",
    "        self.method = 'stochastic'\n",
    "        self.loss_func = 'ridge'\n",
    "        error_score = self.performCrossValidate(X, y, cv=10)\n",
    "        print(f'stochastic sampling, ridge loss with lambda of 0.05 mse score: {error_score}\\ntheta: {self.theta}')\n"
   ],
   "outputs": [],
   "metadata": {}
  },
  {
   "cell_type": "code",
   "execution_count": 25,
   "source": [
    "model = RegressionModel(max_iteration = 10000, alpha = 0.0001, method=\"batch\",\n",
    "    tol = 1e-3, weight_init_method='norm', loss_func='ridge', lambd=0.05)\n",
    "theta, loss_values = model.gradientDescend(X_train, y_train)\n",
    "yhat = model.predict(X_test)\n",
    "\n",
    "print(\"MSE: \", model.error(y_test, yhat))\n",
    "print(\"Stop at Iteration:\", model.stop_iter)\n",
    "\n",
    "plt.plot(loss_values)\n",
    "plt.title('Lost')\n",
    "plt.show()\n",
    "model.featureImportance()"
   ],
   "outputs": [
    {
     "output_type": "stream",
     "name": "stdout",
     "text": [
      "MSE:  34.774111361844206\n",
      "Stop at Iteration: 9999\n"
     ]
    },
    {
     "output_type": "display_data",
     "data": {
      "image/png": "[encoded data removed]",
      "text/plain": [
       "<Figure size 432x288 with 1 Axes>"
      ]
     },
     "metadata": {
      "needs_background": "light"
     }
    },
    {
     "output_type": "stream",
     "name": "stderr",
     "text": [
      "/home/maxpasit/anaconda3/lib/python3.7/site-packages/ipykernel_launcher.py:103: RuntimeWarning: invalid value encountered in log\n"
     ]
    },
    {
     "output_type": "display_data",
     "data": {
      "image/png": "[encoded data removed]",
      "text/plain": [
       "<Figure size 432x288 with 1 Axes>"
      ]
     },
     "metadata": {
      "needs_background": "light"
     }
    }
   ],
   "metadata": {}
  },
  {
   "cell_type": "code",
   "execution_count": 23,
   "source": [
    "model2 = RegressionModel(max_iteration = 10000, alpha = 0.0001)\n",
    "model2.crossValidate(X_train, y_train)"
   ],
   "outputs": [
    {
     "output_type": "stream",
     "name": "stdout",
     "text": [
      "mini-batch sampling, normal loss mse score: 5.274425235840858\n",
      "theta: [ 14.88238888 -24.58468884  20.11024093  11.30306654 -14.77745959\n",
      "  14.24840966]\n",
      "mini-batch sampling, ridge loss with lambda of 0.05 mse score: 5.3306820991679835\n",
      "theta: [ 14.34037328 -23.96800107  19.42561842  11.2769092  -14.53531454\n",
      "  14.62101223]\n",
      "stochastic sampling, normal loss mse score: 9.514325662697921\n",
      "theta: [4.35120829 3.59654461 3.82069474 4.40936673 3.25477183 4.41150749]\n",
      "stochastic sampling, ridge loss with lambda of 0.05 mse score: 9.51067313778615\n",
      "theta: [4.94876003 3.22835829 4.04400245 3.96048046 3.26578397 4.11886781]\n"
     ]
    }
   ],
   "metadata": {}
  },
  {
   "cell_type": "code",
   "execution_count": 26,
   "source": [
    "model = RegressionModel(max_iteration = 10000, alpha = 0.0001, method=\"mini-batch\",\n",
    "    tol = 1e-3, weight_init_method='norm', loss_func='mse')\n",
    "theta, loss_values = model.gradientDescend(X_train, y_train)\n",
    "yhat = model.predict(X_test)\n",
    "\n",
    "print(\"MSE: \", model.error(y_test, yhat))\n",
    "print(\"Stop at Iteration:\", model.stop_iter)\n",
    "\n",
    "plt.plot(loss_values)\n",
    "plt.title('Lost')\n",
    "plt.show()\n",
    "model.featureImportance()"
   ],
   "outputs": [
    {
     "output_type": "stream",
     "name": "stdout",
     "text": [
      "MSE:  52.613217096636454\n",
      "Stop at Iteration: 9999\n"
     ]
    },
    {
     "output_type": "display_data",
     "data": {
      "image/png": "[encoded data removed]",
      "text/plain": [
       "<Figure size 432x288 with 1 Axes>"
      ]
     },
     "metadata": {
      "needs_background": "light"
     }
    },
    {
     "output_type": "stream",
     "name": "stderr",
     "text": [
      "/home/maxpasit/anaconda3/lib/python3.7/site-packages/ipykernel_launcher.py:103: RuntimeWarning: invalid value encountered in log\n"
     ]
    },
    {
     "output_type": "display_data",
     "data": {
      "image/png": "[encoded data removed]",
      "text/plain": [
       "<Figure size 432x288 with 1 Axes>"
      ]
     },
     "metadata": {
      "needs_background": "light"
     }
    }
   ],
   "metadata": {}
  },
  {
   "cell_type": "markdown",
   "source": [
    "After I get the data. I use correlation to find which feature of the data is the most important one and use only top 5 feature to train model. <br><br>\n",
    "In this test I use MSE to determine the accuracy of the model. In the cross validation experiment, with normal loss function and mini-batch method get lowest mse score. It's mean this model have best accuracy. <br><br>\n",
    "So I implement model with mini-batch and norm loss function and plot the lost values. There are some noise in the training that cause from the mini-batch method.<br><br>\n",
    "For the feature importance method there is an error. When we the weight is minus, we can not log transform that value. As a result some feature can not be plotted if it have minus weight."
   ],
   "metadata": {}
  }
 ],
 "metadata": {
  "kernelspec": {
   "name": "python3",
   "display_name": "Python 3.7.6 64-bit ('base': conda)"
  },
  "language_info": {
   "codemirror_mode": {
    "name": "ipython",
    "version": 3
   },
   "file_extension": ".py",
   "mimetype": "text/x-python",
   "name": "python",
   "nbconvert_exporter": "python",
   "pygments_lexer": "ipython3",
   "version": "3.7.6"
  },
  "interpreter": {
   "hash": "1df8770f36cccaa28b49186283820102a7be0be7912bde98ce292c19ce2372ee"
  }
 },
 "nbformat": 4,
 "nbformat_minor": 4
}