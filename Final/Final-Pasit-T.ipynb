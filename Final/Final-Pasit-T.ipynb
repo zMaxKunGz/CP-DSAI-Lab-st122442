{
 "cells": [
  {
   "cell_type": "markdown",
   "metadata": {
    "id": "tanGUW6DrdfS"
   },
   "source": [
    "# CP - Final - 2021\n",
    "\n",
    "## Instruction\n",
    "\n",
    "- Modify this file to be Final-<Your FirstName-[First Letter of Last Name]>, e.g., <code>Final-Chaklam-S.ipynb</code>\n",
    "- This exam is open-booked; open-internet.\n",
    "- You ARE NOT allowed to use sklearn or pytorch libraries, unless stated.\n",
    "- The completed exams shall be submitted at the Google Classroom\n",
    "- All code should be **complemented with comments**, unless it's really obvious.  **We reserve the privilege to give you zero for any part of the question where the benefit of doubt is not justified**\n",
    "\n",
    "## Examination Rules:\n",
    "- You may leave the room temporarily with the approval and supervision of the proctors. No extra time will be added to the exam in such cases.\n",
    "- You are required to turn on your webcam during the entire period of the exam time\n",
    "- Students will be allowed to leave at the **earliest 45 minutes** after the exam has started\n",
    "- **All work should belong to you**.  A student should NOT engage in the following activities which proctors reserve the right to interpret any of such act as academic dishonesty without questioning:\n",
    "    - Chatting with any human beings physically or via online methods\n",
    "    - Plagiarism of any sort, i.e., copying from friends.  **Both copee and copier shall be given a minimum penalty of zero mark for that particular question or the whole exam.**\n",
    "- No make-up exams are allowed.  Special considerations may be given upon a valid reason on unpredictable events such as accidents or serious sickness."
   ]
  },
  {
   "cell_type": "markdown",
   "metadata": {
    "id": "py_UElLhrEnp"
   },
   "source": [
    "# Coding\n",
    "\n",
    "#### Summary \n",
    "In this section, you will be dealing with a classification problem. You will be generating your own data, training and evaluating them. You will be asked to create a neural network according to the instructions. \n",
    "\n",
    "The generating data will be a 2d-data (28, 28) being arranged similar to the input shape of CNN2d with channel = 1, height = 28 and width = 28 (batch_size, channel, height, width)\n",
    "\n",
    "You will then be asked to create a network consisting of 2 CNN2d layers followed by an fc layer. After the fc layer, it exists lstm cells where num_layer and hidden_size can be defined. This hidden_size is set to be the same as num_classes. The output of lstm is then directly returned. "
   ]
  },
  {
   "cell_type": "markdown",
   "metadata": {
    "id": "8HRaDlgpDqR1"
   },
   "source": [
    "Import Libraries"
   ]
  },
  {
   "cell_type": "code",
   "execution_count": 1,
   "metadata": {
    "id": "3kcPxgAlPve4"
   },
   "outputs": [],
   "source": [
    "import numpy as np\n",
    "import torch\n",
    "import matplotlib.pyplot as plt\n",
    "from torch.utils.data import DataLoader, TensorDataset\n",
    "import torch.nn as nn"
   ]
  },
  {
   "cell_type": "markdown",
   "metadata": {
    "id": "dN4md_BKR1pL"
   },
   "source": [
    "1. Generate a 4 class 2d-data with 70000 samples. (10 points)\n",
    "- Class 0 data is sampled from a normal distribution with mean = 0, std = 1, size = (28,28) \n",
    "- Class 1 data is sampled from a normal distribution with mean = 5, std = 1, size = (28,28) \n",
    "- Class 2 data is sampled from a normal distribution with mean = 15, std = 1, size = (28,28) \n",
    "- Class 3 data is sampled from a normal distribution with mean = 20, std = 1, size = (28,28) \n",
    "\n",
    "The final shape of x should be (70000, 1, 28, 28) and y should be (70000,)"
   ]
  },
  {
   "cell_type": "code",
   "execution_count": 2,
   "metadata": {
    "id": "zjr08O6BSith"
   },
   "outputs": [],
   "source": [
    "X = np.zeros((70000, 1, 28, 28))\n",
    "y = np.zeros(70000)\n",
    "X[:17500, :] = np.random.normal(0, 1, (17500, 1, 28, 28))\n",
    "X[17500:17500*2, :] = np.random.normal(5, 1, (17500, 1, 28, 28))\n",
    "X[17500*2:17500*3, :] = np.random.normal(15, 1, (17500, 1, 28, 28))\n",
    "X[17500*3:, :] = np.random.normal(20, 1, (17500, 1, 28, 28))\n",
    "\n",
    "y[17500:17500*2] = 1\n",
    "y[17500*2:17500*3] = 2\n",
    "y[17500*3:] = 3"
   ]
  },
  {
   "cell_type": "markdown",
   "metadata": {
    "id": "VyeGf8jzYn_g"
   },
   "source": [
    "In case you are unable to do question 1, Use the following lines of code to generate your data and continue with question 3. But be aware that no marks will be given to question 1 and question 2"
   ]
  },
  {
   "cell_type": "code",
   "execution_count": 3,
   "metadata": {
    "id": "nLD-0uffYnDN"
   },
   "outputs": [],
   "source": [
    "# import torchvision\n",
    "# training_data = torchvision.datasets.MNIST('./data/', train=True, download=True,\n",
    "#                              transform=torchvision.transforms.Compose([\n",
    "#                                torchvision.transforms.ToTensor(),\n",
    "#                                torchvision.transforms.Normalize(\n",
    "#                                  (0.5,), (0.5,))\n",
    "#                              ]))\n",
    "\n",
    "# testing_data  = torchvision.datasets.MNIST('./data/', train=False, download=True,\n",
    "#                              transform=torchvision.transforms.Compose([\n",
    "#                                torchvision.transforms.ToTensor(),\n",
    "#                                torchvision.transforms.Normalize(\n",
    "#                                  (0.5,), (0.5,))\n",
    "#                              ]))"
   ]
  },
  {
   "cell_type": "markdown",
   "metadata": {
    "id": "i4gqWf-BAnfK"
   },
   "source": [
    "2. Split your data into train and test with the split ratio of 1/7 (5 points)"
   ]
  },
  {
   "cell_type": "code",
   "execution_count": 4,
   "metadata": {
    "id": "3JGmI82aYOFt"
   },
   "outputs": [],
   "source": [
    "def trainTestSplit(X, y, test_ratio, random):\n",
    "    idx = np.arange(70000)\n",
    "    if random:\n",
    "        np.random.shuffle(idx)\n",
    "    split_idx = int(70000 * test_ratio)\n",
    "    X_test = X[:split_idx, :]\n",
    "    y_test = y[:split_idx]\n",
    "\n",
    "    X_train = X[split_idx:, :]\n",
    "    y_train = y[split_idx:]\n",
    "\n",
    "    return X_train, y_train, X_test, y_test\n",
    "\n",
    "X_train, y_train, X_test, y_test = trainTestSplit(X, y, 1/7, random=True)"
   ]
  },
  {
   "cell_type": "markdown",
   "metadata": {
    "id": "hVfzHO4tSutV"
   },
   "source": [
    "3. Check the size of your train and test sets (5 points)"
   ]
  },
  {
   "cell_type": "code",
   "execution_count": 5,
   "metadata": {
    "id": "RzMQPWlgScTA"
   },
   "outputs": [
    {
     "name": "stdout",
     "output_type": "stream",
     "text": [
      "X_Train: (60000, 1, 28, 28)\n",
      "y_train: (60000,)\n",
      "X_test: (10000, 1, 28, 28)\n",
      "y_test: (10000,)\n"
     ]
    }
   ],
   "source": [
    "print('X_Train:', X_train.shape)\n",
    "print('y_train:', y_train.shape)\n",
    "print('X_test:', X_test.shape)\n",
    "print('y_test:', y_test.shape)"
   ]
  },
  {
   "cell_type": "markdown",
   "metadata": {
    "id": "zI3okI8lSyA9"
   },
   "source": [
    "4. Set up your train and test loader with a batch size of 32 and shuffle = True (10 points)"
   ]
  },
  {
   "cell_type": "code",
   "execution_count": 6,
   "metadata": {
    "id": "mU-HO84OSizY"
   },
   "outputs": [],
   "source": [
    "BATCH_SIZE = 32\n",
    "Xt_train = torch.FloatTensor(X_train)\n",
    "yt_train = torch.FloatTensor(y_train)\n",
    "Xt_test = torch.FloatTensor(X_test)\n",
    "yt_test = torch.FloatTensor(y_test)\n",
    "\n",
    "train_dataset = TensorDataset(Xt_train, yt_train)\n",
    "test_dataset = TensorDataset(Xt_test, yt_test)\n",
    "\n",
    "train_loader = DataLoader(train_dataset, batch_size=BATCH_SIZE, shuffle=True)\n",
    "test_loader = DataLoader(test_dataset, batch_size=BATCH_SIZE, shuffle=True)"
   ]
  },
  {
   "cell_type": "markdown",
   "metadata": {
    "id": "MgKC7RaHS6At"
   },
   "source": [
    "5. Check the shape of your batch. It should be [batchsize = 32, channel = 1, height = 28, width = 28] (5 points)"
   ]
  },
  {
   "cell_type": "code",
   "execution_count": 7,
   "metadata": {
    "id": "-AFbESMhTx8q"
   },
   "outputs": [
    {
     "name": "stdout",
     "output_type": "stream",
     "text": [
      "Train shape: torch.Size([32, 1, 28, 28])\n",
      "Test shape: torch.Size([32, 1, 28, 28])\n"
     ]
    }
   ],
   "source": [
    "(data, target) = next(iter(train_loader))\n",
    "(data_test, target_test) = next(iter(test_loader))\n",
    "\n",
    "print(\"Train shape:\", data.shape)\n",
    "print(\"Test shape:\", data_test.shape)"
   ]
  },
  {
   "cell_type": "markdown",
   "metadata": {
    "id": "-DV6rOMhTcSt"
   },
   "source": [
    "6. Plot 6 samples of any classes (10 points)"
   ]
  },
  {
   "cell_type": "code",
   "execution_count": 8,
   "metadata": {
    "colab": {
     "base_uri": "https://localhost:8080/",
     "height": 399
    },
    "id": "PhVfLFEUT9Aj",
    "outputId": "33a04353-06d4-47e7-ebda-77513a94672e"
   },
   "outputs": [
    {
     "data": {
      "image/png": "[encoded data removed]",
      "text/plain": [
       "<Figure size 1080x720 with 6 Axes>"
      ]
     },
     "metadata": {
      "needs_background": "light"
     },
     "output_type": "display_data"
    }
   ],
   "source": [
    "fig, axs = plt.subplots(2,3, figsize=(15,10))\n",
    "axs[0,0].imshow(data[0,0,:])\n",
    "axs[0,0].set_title(f'target {target[0]}')\n",
    "axs[0,1].imshow(data[1,0,:])\n",
    "axs[0,1].set_title(f'target {target[1]}')\n",
    "axs[0,2].imshow(data[2,0,:])\n",
    "axs[0,2].set_title(f'target {target[2]}')\n",
    "axs[1,0].imshow(data[3,0,:])\n",
    "axs[1,0].set_title(f'target {target[3]}')\n",
    "axs[1,1].imshow(data[4,0,:])\n",
    "axs[1,1].set_title(f'target {target[4]}')\n",
    "axs[1,2].imshow(data[5,0,:])\n",
    "axs[1,2].set_title(f'target {target[5]}')\n",
    "plt.show()"
   ]
  },
  {
   "cell_type": "markdown",
   "metadata": {
    "id": "jPvl4EyRfb0s"
   },
   "source": [
    "If you use MNIST"
   ]
  },
  {
   "cell_type": "markdown",
   "metadata": {
    "id": "gjsFtdXgTxtN"
   },
   "source": [
    "7. Configure your device. (5 points)"
   ]
  },
  {
   "cell_type": "code",
   "execution_count": 9,
   "metadata": {
    "id": "-SBaWTaIasS3"
   },
   "outputs": [],
   "source": [
    "device = 'cuda' if torch.cuda.is_available() else 'cpu'\n",
    "device = 'cpu'"
   ]
  },
  {
   "cell_type": "markdown",
   "metadata": {
    "id": "p5CFDBK8XVZA"
   },
   "source": [
    "8. Define your class called Net with the following layers (40 points)\n",
    "- cnn2d layer 1 with in_channel = 1, out_channel = 10, kernel size of 5, dropout of p = 0.5 maxpool and relu as its activation function\n",
    "- cnn2d layer 2 with in_channel = 10, out_channel = 20, kernel size of 5, dropout of p = 0.5 maxpool and relu as its activation function\n",
    "- linear layer with output of 25\n",
    "- lstm with num_layer = 2 and set hidden size to be num_classes\n",
    "\n",
    "\n"
   ]
  },
  {
   "cell_type": "code",
   "execution_count": 10,
   "metadata": {
    "id": "JgQ7KEGSolg0"
   },
   "outputs": [],
   "source": [
    "class Net(nn.Module):\n",
    "    def __init__(self, lstm_layer, num_classes):\n",
    "        super(Net, self).__init__()\n",
    "        self.cnn1 = nn.Sequential(\n",
    "            nn.Conv2d(1, 10, kernel_size=5),\n",
    "            nn.Dropout2d(p=0.5),\n",
    "            nn.ReLU(),\n",
    "            nn.MaxPool2d(kernel_size=2)\n",
    "        )\n",
    "        self.cnn2 = nn.Sequential(\n",
    "            nn.Conv2d(10, 20, kernel_size=5),\n",
    "            nn.Dropout2d(p=0.5),\n",
    "            nn.ReLU(),\n",
    "            nn.MaxPool2d(kernel_size=2)\n",
    "        )\n",
    "        self.fully1 = nn.Sequential(\n",
    "            nn.Linear(320,25),\n",
    "            nn.Sigmoid()\n",
    "        )\n",
    "        self.relu = nn.ReLU()\n",
    "        self.lstm = nn.LSTM(1, 4, num_layers=2, batch_first=True) \n",
    "\n",
    "    def forward(self, x):\n",
    "        x = self.cnn1(x)\n",
    "        x = self.cnn2(x)\n",
    "\n",
    "        x = x.reshape(x.size(0), -1)\n",
    "        x = self.fully1(x)\n",
    "        x = self.relu(x)\n",
    "        x = x.reshape(x.shape[0], x.shape[1], 1)\n",
    "        output, (hn, cn) = self.lstm(x)\n",
    "        return hn[1,:].squeeze(0)\n"
   ]
  },
  {
   "cell_type": "markdown",
   "metadata": {
    "id": "ZX-z2gwEV0xq"
   },
   "source": [
    "9. Create an model object with num_layers of lstm = 2, hidden_size and  num_classes = 4 (10 points)\n",
    "\n",
    "If you use MNIST hidden_size and  num_classes = 10\n"
   ]
  },
  {
   "cell_type": "code",
   "execution_count": 11,
   "metadata": {
    "id": "c5XXKpoNbryI"
   },
   "outputs": [],
   "source": [
    "model = Net(lstm_layer=2, num_classes=4).to(device)"
   ]
  },
  {
   "cell_type": "markdown",
   "metadata": {
    "id": "oB5mzlq1hUjr"
   },
   "source": [
    "10. Define an appropriate loss function for classification of this dataset (2.5 points)"
   ]
  },
  {
   "cell_type": "code",
   "execution_count": 12,
   "metadata": {
    "id": "qMwV-eeJhZiM"
   },
   "outputs": [],
   "source": [
    "criterion = nn.CrossEntropyLoss()"
   ]
  },
  {
   "cell_type": "markdown",
   "metadata": {
    "id": "rg8zUUMGhb3D"
   },
   "source": [
    "11. Define your optimizer as Adam with learning rate of 0.001 (5 points)"
   ]
  },
  {
   "cell_type": "code",
   "execution_count": 13,
   "metadata": {
    "id": "IOpYvWwJcSDm"
   },
   "outputs": [],
   "source": [
    "optimizer = torch.optim.Adam(model.parameters(), lr=0.001)"
   ]
  },
  {
   "cell_type": "markdown",
   "metadata": {
    "id": "UHy0PqUZiPbF"
   },
   "source": [
    "12. Define your train function and train your model with n_epoch = 3 (15 points)"
   ]
  },
  {
   "cell_type": "code",
   "execution_count": 14,
   "metadata": {
    "id": "i1jZoAG_c5Yl"
   },
   "outputs": [
    {
     "name": "stdout",
     "output_type": "stream",
     "text": [
      "0\n",
      "1\n",
      "2\n"
     ]
    }
   ],
   "source": [
    "n_epoch = 3\n",
    "losses = []\n",
    "accs = []\n",
    "for i in range(n_epoch):\n",
    "    print(i)\n",
    "    model.train()\n",
    "    epoch_loss = 0\n",
    "    for data, target in train_loader:\n",
    "        target = target.type(torch.LongTensor)\n",
    "        if torch.cuda.is_available():\n",
    "            data = data.to(device)\n",
    "            target = target.to(device)\n",
    "        \n",
    "        output = model(data)\n",
    "        loss = criterion(output, target)\n",
    "        loss.backward()\n",
    "        optimizer.step()\n",
    "        \n",
    "        epoch_loss += loss.item()\n",
    "\n",
    "    losses.append(epoch_loss)\n",
    "    model.eval()\n",
    "\n",
    "    if torch.cuda.is_available():\n",
    "        Xt_train = Xt_train.to(device)\n",
    "        \n",
    "    out_train = model(Xt_train)\n",
    "    out_classes = torch.argmax(out_train, dim=1)\n",
    "    correct = [1 if out_classes[i] == yt_train[i] else 0 for i in range(yt_train.shape[0])]\n",
    "    acc = sum(correct)/len(correct)\n",
    "    accs.append(acc)"
   ]
  },
  {
   "cell_type": "markdown",
   "metadata": {
    "id": "hK7_TsS5iaGi"
   },
   "source": [
    "13. Plot your train losses and accuracies (10 points)"
   ]
  },
  {
   "cell_type": "code",
   "execution_count": 15,
   "metadata": {
    "id": "VOg2XS01sAsI"
   },
   "outputs": [
    {
     "data": {
      "image/png": "[encoded data removed]",
      "text/plain": [
       "<Figure size 432x288 with 1 Axes>"
      ]
     },
     "metadata": {
      "needs_background": "light"
     },
     "output_type": "display_data"
    }
   ],
   "source": [
    "plt.plot(losses)\n",
    "plt.plot(accs)\n",
    "plt.show()"
   ]
  },
  {
   "cell_type": "markdown",
   "metadata": {
    "id": "UCBLreP1iUUk"
   },
   "source": [
    "14. Evaluate your model with your test set (10 points)"
   ]
  },
  {
   "cell_type": "code",
   "execution_count": 16,
   "metadata": {
    "id": "nt3fbR1EecZF"
   },
   "outputs": [
    {
     "name": "stdout",
     "output_type": "stream",
     "text": [
      "Accuracy: 0.0\n"
     ]
    }
   ],
   "source": [
    "model.eval()\n",
    "\n",
    "if torch.cuda.is_available():\n",
    "    Xt_test = Xt_test.to(device)\n",
    "\n",
    "output = model(Xt_test)\n",
    "out_classes = torch.argmax(output, dim=1)\n",
    "correct = [1 if out_classes[i] == yt_test[i] else 0 for i in range(yt_test.shape[0])]\n",
    "acc = sum(correct)/len(correct)\n",
    "\n",
    "print('Accuracy:', acc)"
   ]
  }
 ],
 "metadata": {
  "accelerator": "GPU",
  "colab": {
   "collapsed_sections": [],
   "name": "CP - Final - 2021.ipynb",
   "provenance": []
  },
  "kernelspec": {
   "display_name": "Python 3",
   "language": "python",
   "name": "python3"
  },
  "language_info": {
   "codemirror_mode": {
    "name": "ipython",
    "version": 3
   },
   "file_extension": ".py",
   "mimetype": "text/x-python",
   "name": "python",
   "nbconvert_exporter": "python",
   "pygments_lexer": "ipython3",
   "version": "3.8.8"
  }
 },
 "nbformat": 4,
 "nbformat_minor": 1
}
